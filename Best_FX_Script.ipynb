{
 "cells": [
  {
   "cell_type": "code",
   "execution_count": 2,
   "metadata": {
    "collapsed": false
   },
   "outputs": [],
   "source": [
    "import numpy as np\n",
    "np.seterr(divide='ignore', invalid='ignore')\n",
    "import urllib2\n",
    "from multiprocessing import Pool as ThreadPool\n",
    "import math\n",
    "import cPickle\n",
    "import os"
   ]
  },
  {
   "cell_type": "code",
   "execution_count": 6,
   "metadata": {
    "collapsed": false
   },
   "outputs": [],
   "source": [
    "priceArr = []\n",
    "patCollect = []\n",
    "endingInd = []\n",
    "patLen = 10\n",
    "futureE = 10\n",
    "quoteCollect = {}\n",
    "bestArr = []\n",
    "\n",
    "def percentChange(startPoint,currentPoint):\n",
    "    try:\n",
    "        x = ((float(currentPoint)-startPoint)/abs(startPoint))\n",
    "        return x\n",
    "    except:\n",
    "        print(currentPoint, startPoint)\n",
    "        return 0.00000000001\n",
    "\n",
    "def loadPats():\n",
    "    global priceArr\n",
    "\n",
    "    priceArr = []\n",
    "    with open(r\"one.pickle\", \"rb\") as input_file:\n",
    "        e = cPickle.load(input_file)\n",
    "        priceArr = e\n",
    "\n",
    "\n",
    "def collectPats():\n",
    "    global patCollect\n",
    "    global endingInd\n",
    "    patCollect = []\n",
    "    endingInd = []\n",
    "    for each in priceArr:\n",
    "        tempCollect = []\n",
    "        tempEnd = []\n",
    "        sIndex = 0\n",
    "        length = (len(each) - patLen - futureE)\n",
    "\n",
    "        while sIndex < length:\n",
    "            inc = 1\n",
    "            tempPat = []\n",
    "            while inc <= patLen:\n",
    "                temp = percentChange(each[sIndex + inc -1], each[sIndex + inc])\n",
    "                inc += 1\n",
    "                tempPat.append(temp)\n",
    "            tempCollect.append(tempPat)\n",
    "            tempEnd.append(sIndex+patLen)\n",
    "            sIndex += (patLen)\n",
    "        patCollect.append(tempCollect)\n",
    "        endingInd.append(tempEnd)\n",
    "\n",
    "loadPats()\n",
    "collectPats()"
   ]
  },
  {
   "cell_type": "code",
   "execution_count": 7,
   "metadata": {
    "collapsed": false
   },
   "outputs": [],
   "source": [
    "def yahooLoad(val):\n",
    "    try:\n",
    "        tempArr = []\n",
    "        string = \"\"\n",
    "        string = 'http://ichart.finance.yahoo.com/table.csv?s={0}'.format(val)\n",
    "        count = 0\n",
    "        for line in urllib2.urlopen(string):\n",
    "            if count == 0:\n",
    "                count = 1\n",
    "                continue\n",
    "            close = line.split(',')[6]\n",
    "            close = float(str(close))\n",
    "            tempArr.append(close)\n",
    "        tempArr = tempArr[::-1]\n",
    "        #quoteCollect[val] = tempArr\n",
    "        return {val: tempArr[-100:]}\n",
    "    except:\n",
    "        {'error': 'error'}\n",
    "        pass\n",
    "\n",
    "\n",
    "def currentPat(curArr):\n",
    "    global patLen\n",
    "    curPat = []\n",
    "    sliceLen = patLen\n",
    "    curr = curArr[-(sliceLen+1):]\n",
    "    if curr[-3] == curr[-1]:\n",
    "        return \"\"\n",
    "    i = 0\n",
    "    while i < patLen:\n",
    "        temp = percentChange(curr[i], curr[i + 1])\n",
    "        curPat.append(temp)\n",
    "        i += 1\n",
    "    return curPat\n",
    "\n",
    "\n",
    "def sortPats(array):\n",
    "    finalArr = []\n",
    "    def getKey(tup):\n",
    "        return tup[1]\n",
    "    finalArr = sorted(array, key=getKey)\n",
    "    return finalArr\n",
    "\n",
    "\n",
    "def matchPats(patCollect,endingInd,curPat):\n",
    "    matchedPat = []\n",
    "    matchedEndInd = []\n",
    "    bestMatches = []\n",
    "    for colInd,col in enumerate(patCollect):\n",
    "        for rowInd,row in enumerate(col):\n",
    "            mseCollect = []\n",
    "            for ind,item in enumerate(row):\n",
    "                mseTemp = abs(curPat[ind] - item)\n",
    "                mseCollect.append(mseTemp)\n",
    "            #mseAvg = np.average(weighting)\n",
    "            mseAvg = np.average(mseCollect)\n",
    "            bestMatches.append(([row,colInd,endingInd[colInd][rowInd]],mseAvg))\n",
    "    test = sortPats(bestMatches)\n",
    "    for item in test[:10]:\n",
    "        matchedPat.append(item[0][0])\n",
    "        matchedEndInd.append((item[0][1],item[0][2]))\n",
    "    return matchedPat,matchedEndInd"
   ]
  },
  {
   "cell_type": "code",
   "execution_count": 8,
   "metadata": {
    "collapsed": true
   },
   "outputs": [],
   "source": [
    "def plotting(matchedPat,matchedEndInd):\n",
    "    global futureE\n",
    "    futureAverages = []\n",
    "    stDev = []\n",
    "    futureLine = []\n",
    "    futurePercent = []\n",
    "    if len(matchedPat) > 1:\n",
    "        for i in matchedPat:\n",
    "            tempPercent = []\n",
    "            refInd = matchedPat.index(i)\n",
    "            endInd = matchedEndInd[refInd]\n",
    "            col = endInd[0]\n",
    "            outcomesZ = priceArr[col][endInd[1]:(endInd[1]+patLen)]\n",
    "            futureLine.append(outcomesZ)\n",
    "            for x in outcomesZ:\n",
    "                change = percentChange(priceArr[col][endInd[1]],x)\n",
    "                tempPercent.append(change)\n",
    "            futurePercent.append(tempPercent)\n",
    "\n",
    "        futureAverages = []\n",
    "\n",
    "        for arrItemNum in range(len(futurePercent[0])):\n",
    "            tempOutcomes = []\n",
    "            for arr in futurePercent:\n",
    "                tempOutcomes.append(arr[arrItemNum])\n",
    "            futureAverages.append(np.mean(tempOutcomes))\n",
    "            stDev.append(np.std(tempOutcomes))\n",
    "\n",
    "        return futureAverages,stDev"
   ]
  },
  {
   "cell_type": "code",
   "execution_count": 9,
   "metadata": {
    "collapsed": false
   },
   "outputs": [],
   "source": [
    "def sortBest(array):\n",
    "    finalArr = []\n",
    "    def getKey(val):\n",
    "        return val['future'][-1]\n",
    "    finalArr = sorted(array, key=getKey, reverse=True)\n",
    "    return finalArr\n",
    "\n",
    "bestCollect = []\n",
    "\n",
    "def bestGo(val,curArr):\n",
    "    global bestCollect\n",
    "    try:\n",
    "        #curArr = yahooLoad(val)\n",
    "        curPat = currentPat(curArr)\n",
    "        matchedPat,matchedEndInd = matchPats(patCollect,endingInd,curPat)\n",
    "        futureAverages,stDev = plotting(matchedPat,matchedEndInd)\n",
    "        totalDict = {'symbol': val,'matches': matchedPat,'current': curPat,'future': futureAverages, 'stDev': stDev, 'sharpe': futureAverages[-1]/stDev[-1]}\n",
    "        bestCollect.append(totalDict)\n",
    "    except:\n",
    "        bestCollect.append({'error':'error'})\n",
    "        pass"
   ]
  },
  {
   "cell_type": "code",
   "execution_count": 10,
   "metadata": {
    "collapsed": false
   },
   "outputs": [],
   "source": [
    "arr = ['SPY','TLT','AAPL','GOOGL','AMZN','NFLX','BAC','JPM','MCD','TSLA','MCD','NKE','MSFT',\n",
    "  'XLE','XLF','QQQ','FB','VZ','GE','BA']#,'HD','DIS','JNJ','GS','PCLN','MS','TJX','M','SBUX','XOM','V','MA',\n",
    "  #'XLU','IBM','INTC','XLV','XLI','IYR','XLY','EEM','FXI','GLD','SLV','GDX','FXE','UUP','HYG','SMH']"
   ]
  },
  {
   "cell_type": "code",
   "execution_count": 18,
   "metadata": {
    "collapsed": false
   },
   "outputs": [],
   "source": [
    "pool = ThreadPool(4)\n",
    "quoteCollect = pool.map(yahooLoad, arr)\n",
    "pool.close()\n",
    "pool.join()\n",
    "\n",
    "bestCollect = []\n",
    "for i in quoteCollect:\n",
    "    try:\n",
    "        for key,value in i.iteritems():\n",
    "            if value != 'error':\n",
    "                bestGo(key,value)\n",
    "    except:\n",
    "        continue\n",
    "\n",
    "finalBest = []\n",
    "for val in bestCollect:\n",
    "    if 'error' not in val:\n",
    "        if val['sharpe'] > 0.85:\n",
    "            finalBest.append(val)\n",
    "bestArr = sortBest(finalBest)\n"
   ]
  },
  {
   "cell_type": "code",
   "execution_count": 19,
   "metadata": {
    "collapsed": false
   },
   "outputs": [],
   "source": [
    "weights = {}\n",
    "count = 0\n",
    "for line in urllib2.urlopen('file:///Users/sjcasella/Desktop/TradeViz_P/spxw.csv'):\n",
    "    nLine = (line.replace('\"','')).replace('%','')\n",
    "    if count == 0:\n",
    "        count = 1\n",
    "        continue\n",
    "    ticker = str(nLine.split(',')[0])\n",
    "    try:\n",
    "        weight = float(nLine.split(',')[2])/100\n",
    "    except:\n",
    "        continue\n",
    "    weights[ticker] = weight"
   ]
  },
  {
   "cell_type": "code",
   "execution_count": 20,
   "metadata": {
    "collapsed": false
   },
   "outputs": [],
   "source": [
    "tempArr = {}\n",
    "for i in bestCollect:\n",
    "    if 'error' in i:\n",
    "        continue\n",
    "    tempVals = {}\n",
    "    val = i['future'] \n",
    "    tempArr[i['symbol']] = val\n",
    "\n",
    "totalW = 0.0\n",
    "for key,val in tempArr.iteritems():\n",
    "    if key in weights:\n",
    "        totalW = totalW + weights[key]\n",
    "\n",
    "spxLine = []\n",
    "for key,val in tempArr.iteritems():\n",
    "    if key in weights:\n",
    "        weight = weights[key]/totalW\n",
    "        spxLine.append([i * weight for i in val])"
   ]
  },
  {
   "cell_type": "code",
   "execution_count": 21,
   "metadata": {
    "collapsed": false
   },
   "outputs": [],
   "source": [
    "spxLen = len(spxLine[0])\n",
    "spxFinal = []\n",
    "for ind in range(spxLen):\n",
    "    totalEach = 0.0\n",
    "    for subArr in spxLine:\n",
    "        totalEach = totalEach + subArr[ind]\n",
    "    spxFinal.append(totalEach)\n"
   ]
  },
  {
   "cell_type": "code",
   "execution_count": 22,
   "metadata": {
    "collapsed": false
   },
   "outputs": [],
   "source": [
    "bestArr.append({'symbol':'SPXLINE','future':spxFinal})\n",
    "\n",
    "os.remove(\"best.pickle\")\n",
    "with open(r\"best.pickle\", \"wb\") as output_file:\n",
    "    cPickle.dump(bestArr, output_file)"
   ]
  },
  {
   "cell_type": "code",
   "execution_count": 23,
   "metadata": {
    "collapsed": false
   },
   "outputs": [
    {
     "name": "stdout",
     "output_type": "stream",
     "text": [
      "[{'symbol': 'SPXLINE', 'future': [0.0, 0.0044397241716545438, 0.0014197823332921461, 0.0028117473386316911, 0.0042154607903476405, 0.0028180968975619332, 0.0037881659868702253, 0.0027846909443363576, 0.00087314279726220952, 0.0033808267158673263]}]\n"
     ]
    }
   ],
   "source": [
    "print(bestArr)"
   ]
  },
  {
   "cell_type": "code",
   "execution_count": 5,
   "metadata": {
    "collapsed": false
   },
   "outputs": [
    {
     "ename": "TypeError",
     "evalue": "<addinfourl at 4417071512 whose fp = <socket._fileobject object at 0x107465950>> is not JSON serializable",
     "output_type": "error",
     "traceback": [
      "\u001b[0;31m---------------------------------------------------------------------------\u001b[0m",
      "\u001b[0;31mTypeError\u001b[0m                                 Traceback (most recent call last)",
      "\u001b[0;32m<ipython-input-5-9c9ffe42892a>\u001b[0m in \u001b[0;36m<module>\u001b[0;34m()\u001b[0m\n\u001b[1;32m      2\u001b[0m \u001b[0mcontent\u001b[0m \u001b[0;34m=\u001b[0m \u001b[0murllib2\u001b[0m\u001b[0;34m.\u001b[0m\u001b[0murlopen\u001b[0m\u001b[0;34m(\u001b[0m\u001b[0;34m'http://finance.google.com/finance/info?client=ig&q=AAPL,GOOG'\u001b[0m\u001b[0;34m)\u001b[0m\u001b[0;34m\u001b[0m\u001b[0m\n\u001b[1;32m      3\u001b[0m \u001b[0mdat\u001b[0m \u001b[0;34m=\u001b[0m \u001b[0mcontent\u001b[0m\u001b[0;34m\u001b[0m\u001b[0m\n\u001b[0;32m----> 4\u001b[0;31m \u001b[0;32mprint\u001b[0m\u001b[0;34m(\u001b[0m\u001b[0mjson\u001b[0m\u001b[0;34m.\u001b[0m\u001b[0mdumps\u001b[0m\u001b[0;34m(\u001b[0m\u001b[0mdat\u001b[0m\u001b[0;34m)\u001b[0m\u001b[0;34m)\u001b[0m\u001b[0;34m\u001b[0m\u001b[0m\n\u001b[0m",
      "\u001b[0;32m/usr/local/Cellar/python/2.7.11/Frameworks/Python.framework/Versions/2.7/lib/python2.7/json/__init__.pyc\u001b[0m in \u001b[0;36mdumps\u001b[0;34m(obj, skipkeys, ensure_ascii, check_circular, allow_nan, cls, indent, separators, encoding, default, sort_keys, **kw)\u001b[0m\n\u001b[1;32m    242\u001b[0m         \u001b[0mcls\u001b[0m \u001b[0;32mis\u001b[0m \u001b[0mNone\u001b[0m \u001b[0;32mand\u001b[0m \u001b[0mindent\u001b[0m \u001b[0;32mis\u001b[0m \u001b[0mNone\u001b[0m \u001b[0;32mand\u001b[0m \u001b[0mseparators\u001b[0m \u001b[0;32mis\u001b[0m \u001b[0mNone\u001b[0m \u001b[0;32mand\u001b[0m\u001b[0;34m\u001b[0m\u001b[0m\n\u001b[1;32m    243\u001b[0m         encoding == 'utf-8' and default is None and not sort_keys and not kw):\n\u001b[0;32m--> 244\u001b[0;31m         \u001b[0;32mreturn\u001b[0m \u001b[0m_default_encoder\u001b[0m\u001b[0;34m.\u001b[0m\u001b[0mencode\u001b[0m\u001b[0;34m(\u001b[0m\u001b[0mobj\u001b[0m\u001b[0;34m)\u001b[0m\u001b[0;34m\u001b[0m\u001b[0m\n\u001b[0m\u001b[1;32m    245\u001b[0m     \u001b[0;32mif\u001b[0m \u001b[0mcls\u001b[0m \u001b[0;32mis\u001b[0m \u001b[0mNone\u001b[0m\u001b[0;34m:\u001b[0m\u001b[0;34m\u001b[0m\u001b[0m\n\u001b[1;32m    246\u001b[0m         \u001b[0mcls\u001b[0m \u001b[0;34m=\u001b[0m \u001b[0mJSONEncoder\u001b[0m\u001b[0;34m\u001b[0m\u001b[0m\n",
      "\u001b[0;32m/usr/local/Cellar/python/2.7.11/Frameworks/Python.framework/Versions/2.7/lib/python2.7/json/encoder.pyc\u001b[0m in \u001b[0;36mencode\u001b[0;34m(self, o)\u001b[0m\n\u001b[1;32m    205\u001b[0m         \u001b[0;31m# exceptions aren't as detailed.  The list call should be roughly\u001b[0m\u001b[0;34m\u001b[0m\u001b[0;34m\u001b[0m\u001b[0m\n\u001b[1;32m    206\u001b[0m         \u001b[0;31m# equivalent to the PySequence_Fast that ''.join() would do.\u001b[0m\u001b[0;34m\u001b[0m\u001b[0;34m\u001b[0m\u001b[0m\n\u001b[0;32m--> 207\u001b[0;31m         \u001b[0mchunks\u001b[0m \u001b[0;34m=\u001b[0m \u001b[0mself\u001b[0m\u001b[0;34m.\u001b[0m\u001b[0miterencode\u001b[0m\u001b[0;34m(\u001b[0m\u001b[0mo\u001b[0m\u001b[0;34m,\u001b[0m \u001b[0m_one_shot\u001b[0m\u001b[0;34m=\u001b[0m\u001b[0mTrue\u001b[0m\u001b[0;34m)\u001b[0m\u001b[0;34m\u001b[0m\u001b[0m\n\u001b[0m\u001b[1;32m    208\u001b[0m         \u001b[0;32mif\u001b[0m \u001b[0;32mnot\u001b[0m \u001b[0misinstance\u001b[0m\u001b[0;34m(\u001b[0m\u001b[0mchunks\u001b[0m\u001b[0;34m,\u001b[0m \u001b[0;34m(\u001b[0m\u001b[0mlist\u001b[0m\u001b[0;34m,\u001b[0m \u001b[0mtuple\u001b[0m\u001b[0;34m)\u001b[0m\u001b[0;34m)\u001b[0m\u001b[0;34m:\u001b[0m\u001b[0;34m\u001b[0m\u001b[0m\n\u001b[1;32m    209\u001b[0m             \u001b[0mchunks\u001b[0m \u001b[0;34m=\u001b[0m \u001b[0mlist\u001b[0m\u001b[0;34m(\u001b[0m\u001b[0mchunks\u001b[0m\u001b[0;34m)\u001b[0m\u001b[0;34m\u001b[0m\u001b[0m\n",
      "\u001b[0;32m/usr/local/Cellar/python/2.7.11/Frameworks/Python.framework/Versions/2.7/lib/python2.7/json/encoder.pyc\u001b[0m in \u001b[0;36miterencode\u001b[0;34m(self, o, _one_shot)\u001b[0m\n\u001b[1;32m    268\u001b[0m                 \u001b[0mself\u001b[0m\u001b[0;34m.\u001b[0m\u001b[0mkey_separator\u001b[0m\u001b[0;34m,\u001b[0m \u001b[0mself\u001b[0m\u001b[0;34m.\u001b[0m\u001b[0mitem_separator\u001b[0m\u001b[0;34m,\u001b[0m \u001b[0mself\u001b[0m\u001b[0;34m.\u001b[0m\u001b[0msort_keys\u001b[0m\u001b[0;34m,\u001b[0m\u001b[0;34m\u001b[0m\u001b[0m\n\u001b[1;32m    269\u001b[0m                 self.skipkeys, _one_shot)\n\u001b[0;32m--> 270\u001b[0;31m         \u001b[0;32mreturn\u001b[0m \u001b[0m_iterencode\u001b[0m\u001b[0;34m(\u001b[0m\u001b[0mo\u001b[0m\u001b[0;34m,\u001b[0m \u001b[0;36m0\u001b[0m\u001b[0;34m)\u001b[0m\u001b[0;34m\u001b[0m\u001b[0m\n\u001b[0m\u001b[1;32m    271\u001b[0m \u001b[0;34m\u001b[0m\u001b[0m\n\u001b[1;32m    272\u001b[0m def _make_iterencode(markers, _default, _encoder, _indent, _floatstr,\n",
      "\u001b[0;32m/usr/local/Cellar/python/2.7.11/Frameworks/Python.framework/Versions/2.7/lib/python2.7/json/encoder.pyc\u001b[0m in \u001b[0;36mdefault\u001b[0;34m(self, o)\u001b[0m\n\u001b[1;32m    182\u001b[0m \u001b[0;34m\u001b[0m\u001b[0m\n\u001b[1;32m    183\u001b[0m         \"\"\"\n\u001b[0;32m--> 184\u001b[0;31m         \u001b[0;32mraise\u001b[0m \u001b[0mTypeError\u001b[0m\u001b[0;34m(\u001b[0m\u001b[0mrepr\u001b[0m\u001b[0;34m(\u001b[0m\u001b[0mo\u001b[0m\u001b[0;34m)\u001b[0m \u001b[0;34m+\u001b[0m \u001b[0;34m\" is not JSON serializable\"\u001b[0m\u001b[0;34m)\u001b[0m\u001b[0;34m\u001b[0m\u001b[0m\n\u001b[0m\u001b[1;32m    185\u001b[0m \u001b[0;34m\u001b[0m\u001b[0m\n\u001b[1;32m    186\u001b[0m     \u001b[0;32mdef\u001b[0m \u001b[0mencode\u001b[0m\u001b[0;34m(\u001b[0m\u001b[0mself\u001b[0m\u001b[0;34m,\u001b[0m \u001b[0mo\u001b[0m\u001b[0;34m)\u001b[0m\u001b[0;34m:\u001b[0m\u001b[0;34m\u001b[0m\u001b[0m\n",
      "\u001b[0;31mTypeError\u001b[0m: <addinfourl at 4417071512 whose fp = <socket._fileobject object at 0x107465950>> is not JSON serializable"
     ]
    }
   ],
   "source": [
    "import json\n",
    "content = urllib2.urlopen('http://finance.google.com/finance/info?client=ig&q=AAPL,GOOG')\n",
    "dat = content\n",
    "print(json.dumps(dat))"
   ]
  },
  {
   "cell_type": "code",
   "execution_count": 10,
   "metadata": {
    "collapsed": false
   },
   "outputs": [
    {
     "name": "stdout",
     "output_type": "stream",
     "text": [
      "\n",
      "// [\n",
      "{\n",
      "\"id\": \"22144\"\n",
      ",\"t\" : \"AAPL\"\n",
      ",\"e\" : \"NASDAQ\"\n",
      ",\"l\" : \"97.42\"\n",
      ",\"l_fix\" : \"97.42\"\n",
      ",\"l_cur\" : \"97.42\"\n",
      ",\"s\": \"1\"\n",
      ",\"ltt\":\"4:00PM EDT\"\n",
      ",\"lt\" : \"Jul 12, 4:00PM EDT\"\n",
      ",\"lt_dts\" : \"2016-07-12T16:00:01Z\"\n",
      ",\"c\" : \"+0.44\"\n",
      ",\"c_fix\" : \"0.44\"\n",
      ",\"cp\" : \"0.45\"\n",
      ",\"cp_fix\" : \"0.45\"\n",
      ",\"ccol\" : \"chg\"\n",
      ",\"pcls_fix\" : \"96.98\"\n",
      ",\"el\": \"97.88\"\n",
      ",\"el_fix\": \"97.88\"\n",
      ",\"el_cur\": \"97.88\"\n",
      ",\"elt\" : \"Jul 13, 6:41AM EDT\"\n",
      ",\"ec\" : \"+0.46\"\n",
      ",\"ec_fix\" : \"0.46\"\n",
      ",\"ecp\" : \"0.47\"\n",
      ",\"ecp_fix\" : \"0.47\"\n",
      ",\"eccol\" : \"chg\"\n",
      ",\"div\" : \"0.57\"\n",
      ",\"yld\" : \"2.34\"\n",
      "}\n",
      ",{\n",
      "\"id\": \"304466804484872\"\n",
      ",\"t\" : \"GOOG\"\n",
      ",\"e\" : \"NASDAQ\"\n",
      ",\"l\" : \"720.64\"\n",
      ",\"l_fix\" : \"720.64\"\n",
      ",\"l_cur\" : \"720.64\"\n",
      ",\"s\": \"1\"\n",
      ",\"ltt\":\"4:00PM EDT\"\n",
      ",\"lt\" : \"Jul 12, 4:00PM EDT\"\n",
      ",\"lt_dts\" : \"2016-07-12T16:00:01Z\"\n",
      ",\"c\" : \"+5.55\"\n",
      ",\"c_fix\" : \"5.55\"\n",
      ",\"cp\" : \"0.78\"\n",
      ",\"cp_fix\" : \"0.78\"\n",
      ",\"ccol\" : \"chg\"\n",
      ",\"pcls_fix\" : \"715.09\"\n",
      ",\"el\": \"722.55\"\n",
      ",\"el_fix\": \"722.55\"\n",
      ",\"el_cur\": \"722.55\"\n",
      ",\"elt\" : \"Jul 13, 5:04AM EDT\"\n",
      ",\"ec\" : \"+1.91\"\n",
      ",\"ec_fix\" : \"1.91\"\n",
      ",\"ecp\" : \"0.27\"\n",
      ",\"ecp_fix\" : \"0.27\"\n",
      ",\"eccol\" : \"chg\"\n",
      ",\"div\" : \"\"\n",
      ",\"yld\" : \"\"\n",
      "}\n",
      "]\n",
      "\n"
     ]
    },
    {
     "ename": "ValueError",
     "evalue": "No JSON object could be decoded",
     "output_type": "error",
     "traceback": [
      "\u001b[0;31m---------------------------------------------------------------------------\u001b[0m",
      "\u001b[0;31mValueError\u001b[0m                                Traceback (most recent call last)",
      "\u001b[0;32m<ipython-input-10-758cd8b9ce4c>\u001b[0m in \u001b[0;36m<module>\u001b[0;34m()\u001b[0m\n\u001b[1;32m      3\u001b[0m \u001b[0mcontent\u001b[0m \u001b[0;34m=\u001b[0m \u001b[0mu\u001b[0m\u001b[0;34m.\u001b[0m\u001b[0mread\u001b[0m\u001b[0;34m(\u001b[0m\u001b[0;34m)\u001b[0m\u001b[0;34m\u001b[0m\u001b[0m\n\u001b[1;32m      4\u001b[0m \u001b[0;32mprint\u001b[0m\u001b[0;34m(\u001b[0m\u001b[0mcontent\u001b[0m\u001b[0;34m)\u001b[0m\u001b[0;34m\u001b[0m\u001b[0m\n\u001b[0;32m----> 5\u001b[0;31m \u001b[0mobj\u001b[0m \u001b[0;34m=\u001b[0m \u001b[0mjson\u001b[0m\u001b[0;34m.\u001b[0m\u001b[0mloads\u001b[0m\u001b[0;34m(\u001b[0m\u001b[0mcontent\u001b[0m\u001b[0;34m[\u001b[0m\u001b[0;36m2\u001b[0m\u001b[0;34m:\u001b[0m\u001b[0;34m]\u001b[0m\u001b[0;34m)\u001b[0m\u001b[0;34m\u001b[0m\u001b[0m\n\u001b[0m\u001b[1;32m      6\u001b[0m \u001b[0;32mprint\u001b[0m\u001b[0;34m(\u001b[0m\u001b[0mjson\u001b[0m\u001b[0;34m.\u001b[0m\u001b[0mdumps\u001b[0m\u001b[0;34m(\u001b[0m\u001b[0mobj\u001b[0m\u001b[0;34m)\u001b[0m\u001b[0;34m)\u001b[0m\u001b[0;34m\u001b[0m\u001b[0m\n\u001b[1;32m      7\u001b[0m \u001b[0;34m\u001b[0m\u001b[0m\n",
      "\u001b[0;32m/usr/local/Cellar/python/2.7.11/Frameworks/Python.framework/Versions/2.7/lib/python2.7/json/__init__.pyc\u001b[0m in \u001b[0;36mloads\u001b[0;34m(s, encoding, cls, object_hook, parse_float, parse_int, parse_constant, object_pairs_hook, **kw)\u001b[0m\n\u001b[1;32m    337\u001b[0m             \u001b[0mparse_int\u001b[0m \u001b[0;32mis\u001b[0m \u001b[0mNone\u001b[0m \u001b[0;32mand\u001b[0m \u001b[0mparse_float\u001b[0m \u001b[0;32mis\u001b[0m \u001b[0mNone\u001b[0m \u001b[0;32mand\u001b[0m\u001b[0;34m\u001b[0m\u001b[0m\n\u001b[1;32m    338\u001b[0m             parse_constant is None and object_pairs_hook is None and not kw):\n\u001b[0;32m--> 339\u001b[0;31m         \u001b[0;32mreturn\u001b[0m \u001b[0m_default_decoder\u001b[0m\u001b[0;34m.\u001b[0m\u001b[0mdecode\u001b[0m\u001b[0;34m(\u001b[0m\u001b[0ms\u001b[0m\u001b[0;34m)\u001b[0m\u001b[0;34m\u001b[0m\u001b[0m\n\u001b[0m\u001b[1;32m    340\u001b[0m     \u001b[0;32mif\u001b[0m \u001b[0mcls\u001b[0m \u001b[0;32mis\u001b[0m \u001b[0mNone\u001b[0m\u001b[0;34m:\u001b[0m\u001b[0;34m\u001b[0m\u001b[0m\n\u001b[1;32m    341\u001b[0m         \u001b[0mcls\u001b[0m \u001b[0;34m=\u001b[0m \u001b[0mJSONDecoder\u001b[0m\u001b[0;34m\u001b[0m\u001b[0m\n",
      "\u001b[0;32m/usr/local/Cellar/python/2.7.11/Frameworks/Python.framework/Versions/2.7/lib/python2.7/json/decoder.pyc\u001b[0m in \u001b[0;36mdecode\u001b[0;34m(self, s, _w)\u001b[0m\n\u001b[1;32m    362\u001b[0m \u001b[0;34m\u001b[0m\u001b[0m\n\u001b[1;32m    363\u001b[0m         \"\"\"\n\u001b[0;32m--> 364\u001b[0;31m         \u001b[0mobj\u001b[0m\u001b[0;34m,\u001b[0m \u001b[0mend\u001b[0m \u001b[0;34m=\u001b[0m \u001b[0mself\u001b[0m\u001b[0;34m.\u001b[0m\u001b[0mraw_decode\u001b[0m\u001b[0;34m(\u001b[0m\u001b[0ms\u001b[0m\u001b[0;34m,\u001b[0m \u001b[0midx\u001b[0m\u001b[0;34m=\u001b[0m\u001b[0m_w\u001b[0m\u001b[0;34m(\u001b[0m\u001b[0ms\u001b[0m\u001b[0;34m,\u001b[0m \u001b[0;36m0\u001b[0m\u001b[0;34m)\u001b[0m\u001b[0;34m.\u001b[0m\u001b[0mend\u001b[0m\u001b[0;34m(\u001b[0m\u001b[0;34m)\u001b[0m\u001b[0;34m)\u001b[0m\u001b[0;34m\u001b[0m\u001b[0m\n\u001b[0m\u001b[1;32m    365\u001b[0m         \u001b[0mend\u001b[0m \u001b[0;34m=\u001b[0m \u001b[0m_w\u001b[0m\u001b[0;34m(\u001b[0m\u001b[0ms\u001b[0m\u001b[0;34m,\u001b[0m \u001b[0mend\u001b[0m\u001b[0;34m)\u001b[0m\u001b[0;34m.\u001b[0m\u001b[0mend\u001b[0m\u001b[0;34m(\u001b[0m\u001b[0;34m)\u001b[0m\u001b[0;34m\u001b[0m\u001b[0m\n\u001b[1;32m    366\u001b[0m         \u001b[0;32mif\u001b[0m \u001b[0mend\u001b[0m \u001b[0;34m!=\u001b[0m \u001b[0mlen\u001b[0m\u001b[0;34m(\u001b[0m\u001b[0ms\u001b[0m\u001b[0;34m)\u001b[0m\u001b[0;34m:\u001b[0m\u001b[0;34m\u001b[0m\u001b[0m\n",
      "\u001b[0;32m/usr/local/Cellar/python/2.7.11/Frameworks/Python.framework/Versions/2.7/lib/python2.7/json/decoder.pyc\u001b[0m in \u001b[0;36mraw_decode\u001b[0;34m(self, s, idx)\u001b[0m\n\u001b[1;32m    380\u001b[0m             \u001b[0mobj\u001b[0m\u001b[0;34m,\u001b[0m \u001b[0mend\u001b[0m \u001b[0;34m=\u001b[0m \u001b[0mself\u001b[0m\u001b[0;34m.\u001b[0m\u001b[0mscan_once\u001b[0m\u001b[0;34m(\u001b[0m\u001b[0ms\u001b[0m\u001b[0;34m,\u001b[0m \u001b[0midx\u001b[0m\u001b[0;34m)\u001b[0m\u001b[0;34m\u001b[0m\u001b[0m\n\u001b[1;32m    381\u001b[0m         \u001b[0;32mexcept\u001b[0m \u001b[0mStopIteration\u001b[0m\u001b[0;34m:\u001b[0m\u001b[0;34m\u001b[0m\u001b[0m\n\u001b[0;32m--> 382\u001b[0;31m             \u001b[0;32mraise\u001b[0m \u001b[0mValueError\u001b[0m\u001b[0;34m(\u001b[0m\u001b[0;34m\"No JSON object could be decoded\"\u001b[0m\u001b[0;34m)\u001b[0m\u001b[0;34m\u001b[0m\u001b[0m\n\u001b[0m\u001b[1;32m    383\u001b[0m         \u001b[0;32mreturn\u001b[0m \u001b[0mobj\u001b[0m\u001b[0;34m,\u001b[0m \u001b[0mend\u001b[0m\u001b[0;34m\u001b[0m\u001b[0m\n",
      "\u001b[0;31mValueError\u001b[0m: No JSON object could be decoded"
     ]
    }
   ],
   "source": [
    "\n",
    "u = urllib2.urlopen('http://finance.google.com/finance/info?client=ig&q=AAPL,GOOG')\n",
    "content = u.read()\n",
    "obj = json.loads(content[3:])\n",
    "print(json.dumps(obj))\n",
    "        "
   ]
  },
  {
   "cell_type": "code",
   "execution_count": null,
   "metadata": {
    "collapsed": true
   },
   "outputs": [],
   "source": []
  }
 ],
 "metadata": {
  "kernelspec": {
   "display_name": "Python 2",
   "language": "python",
   "name": "python2"
  },
  "language_info": {
   "codemirror_mode": {
    "name": "ipython",
    "version": 2
   },
   "file_extension": ".py",
   "mimetype": "text/x-python",
   "name": "python",
   "nbconvert_exporter": "python",
   "pygments_lexer": "ipython2",
   "version": "2.7.11"
  }
 },
 "nbformat": 4,
 "nbformat_minor": 0
}
