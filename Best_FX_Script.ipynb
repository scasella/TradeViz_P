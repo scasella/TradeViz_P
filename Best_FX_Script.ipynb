{
 "cells": [
  {
   "cell_type": "code",
   "execution_count": 3,
   "metadata": {
    "collapsed": false
   },
   "outputs": [],
   "source": [
    "import numpy as np\n",
    "np.seterr(divide='ignore', invalid='ignore')\n",
    "import urllib2\n",
    "from multiprocessing import Pool as ThreadPool\n",
    "import math\n",
    "import cPickle\n",
    "import os"
   ]
  },
  {
   "cell_type": "code",
   "execution_count": 6,
   "metadata": {
    "collapsed": false
   },
   "outputs": [],
   "source": [
    "priceArr = []\n",
    "patCollect = []\n",
    "endingInd = []\n",
    "patLen = 10\n",
    "futureE = 10\n",
    "quoteCollect = {}\n",
    "bestArr = []\n",
    "\n",
    "def percentChange(startPoint,currentPoint):\n",
    "    try:\n",
    "        x = ((float(currentPoint)-startPoint)/abs(startPoint))\n",
    "        return x\n",
    "    except:\n",
    "        print(currentPoint, startPoint)\n",
    "        return 0.00000000001\n",
    "\n",
    "def loadPats():\n",
    "    global priceArr\n",
    "\n",
    "    priceArr = []\n",
    "    with open(r\"one.pickle\", \"rb\") as input_file:\n",
    "        e = cPickle.load(input_file)\n",
    "        priceArr = e\n",
    "\n",
    "\n",
    "def collectPats():\n",
    "    global patCollect\n",
    "    global endingInd\n",
    "    patCollect = []\n",
    "    endingInd = []\n",
    "    for each in priceArr:\n",
    "        tempCollect = []\n",
    "        tempEnd = []\n",
    "        sIndex = 0\n",
    "        length = (len(each) - patLen - futureE)\n",
    "\n",
    "        while sIndex < length:\n",
    "            inc = 1\n",
    "            tempPat = []\n",
    "            while inc <= patLen:\n",
    "                temp = percentChange(each[sIndex + inc -1], each[sIndex + inc])\n",
    "                inc += 1\n",
    "                tempPat.append(temp)\n",
    "            tempCollect.append(tempPat)\n",
    "            tempEnd.append(sIndex+patLen)\n",
    "            sIndex += (patLen)\n",
    "        patCollect.append(tempCollect)\n",
    "        endingInd.append(tempEnd)\n",
    "\n",
    "loadPats()\n",
    "collectPats()"
   ]
  },
  {
   "cell_type": "code",
   "execution_count": 7,
   "metadata": {
    "collapsed": false
   },
   "outputs": [],
   "source": [
    "def yahooLoad(val):\n",
    "    try:\n",
    "        tempArr = []\n",
    "        string = \"\"\n",
    "        string = 'http://ichart.finance.yahoo.com/table.csv?s={0}'.format(val)\n",
    "        count = 0\n",
    "        for line in urllib2.urlopen(string):\n",
    "            if count == 0:\n",
    "                count = 1\n",
    "                continue\n",
    "            close = line.split(',')[6]\n",
    "            close = float(str(close))\n",
    "            tempArr.append(close)\n",
    "        tempArr = tempArr[::-1]\n",
    "        #quoteCollect[val] = tempArr\n",
    "        return {val: tempArr[-100:]}\n",
    "    except:\n",
    "        {'error': 'error'}\n",
    "        pass\n",
    "\n",
    "\n",
    "def currentPat(curArr):\n",
    "    global patLen\n",
    "    curPat = []\n",
    "    sliceLen = patLen\n",
    "    curr = curArr[-(sliceLen+1):]\n",
    "    if curr[-3] == curr[-1]:\n",
    "        return \"\"\n",
    "    i = 0\n",
    "    while i < patLen:\n",
    "        temp = percentChange(curr[i], curr[i + 1])\n",
    "        curPat.append(temp)\n",
    "        i += 1\n",
    "    return curPat\n",
    "\n",
    "\n",
    "def sortPats(array):\n",
    "    finalArr = []\n",
    "    def getKey(tup):\n",
    "        return tup[1]\n",
    "    finalArr = sorted(array, key=getKey)\n",
    "    return finalArr\n",
    "\n",
    "\n",
    "def matchPats(patCollect,endingInd,curPat):\n",
    "    matchedPat = []\n",
    "    matchedEndInd = []\n",
    "    bestMatches = []\n",
    "    for colInd,col in enumerate(patCollect):\n",
    "        for rowInd,row in enumerate(col):\n",
    "            mseCollect = []\n",
    "            for ind,item in enumerate(row):\n",
    "                mseTemp = abs(curPat[ind] - item)\n",
    "                mseCollect.append(mseTemp)\n",
    "            #mseAvg = np.average(weighting)\n",
    "            mseAvg = np.average(mseCollect)\n",
    "            bestMatches.append(([row,colInd,endingInd[colInd][rowInd]],mseAvg))\n",
    "    test = sortPats(bestMatches)\n",
    "    for item in test[:10]:\n",
    "        matchedPat.append(item[0][0])\n",
    "        matchedEndInd.append((item[0][1],item[0][2]))\n",
    "    return matchedPat,matchedEndInd"
   ]
  },
  {
   "cell_type": "code",
   "execution_count": 8,
   "metadata": {
    "collapsed": true
   },
   "outputs": [],
   "source": [
    "def plotting(matchedPat,matchedEndInd):\n",
    "    global futureE\n",
    "    futureAverages = []\n",
    "    stDev = []\n",
    "    futureLine = []\n",
    "    futurePercent = []\n",
    "    if len(matchedPat) > 1:\n",
    "        for i in matchedPat:\n",
    "            tempPercent = []\n",
    "            refInd = matchedPat.index(i)\n",
    "            endInd = matchedEndInd[refInd]\n",
    "            col = endInd[0]\n",
    "            outcomesZ = priceArr[col][endInd[1]:(endInd[1]+patLen)]\n",
    "            futureLine.append(outcomesZ)\n",
    "            for x in outcomesZ:\n",
    "                change = percentChange(priceArr[col][endInd[1]],x)\n",
    "                tempPercent.append(change)\n",
    "            futurePercent.append(tempPercent)\n",
    "\n",
    "        futureAverages = []\n",
    "\n",
    "        for arrItemNum in range(len(futurePercent[0])):\n",
    "            tempOutcomes = []\n",
    "            for arr in futurePercent:\n",
    "                tempOutcomes.append(arr[arrItemNum])\n",
    "            futureAverages.append(np.mean(tempOutcomes))\n",
    "            stDev.append(np.std(tempOutcomes))\n",
    "\n",
    "        return futureAverages,stDev"
   ]
  },
  {
   "cell_type": "code",
   "execution_count": 9,
   "metadata": {
    "collapsed": false
   },
   "outputs": [],
   "source": [
    "def sortBest(array):\n",
    "    finalArr = []\n",
    "    def getKey(val):\n",
    "        return val['future'][-1]\n",
    "    finalArr = sorted(array, key=getKey, reverse=True)\n",
    "    return finalArr\n",
    "\n",
    "bestCollect = []\n",
    "\n",
    "def bestGo(val,curArr):\n",
    "    global bestCollect\n",
    "    try:\n",
    "        #curArr = yahooLoad(val)\n",
    "        curPat = currentPat(curArr)\n",
    "        matchedPat,matchedEndInd = matchPats(patCollect,endingInd,curPat)\n",
    "        futureAverages,stDev = plotting(matchedPat,matchedEndInd)\n",
    "        totalDict = {'symbol': val,'matches': matchedPat,'current': curPat,'future': futureAverages, 'stDev': stDev, 'sharpe': futureAverages[-1]/stDev[-1]}\n",
    "        bestCollect.append(totalDict)\n",
    "    except:\n",
    "        bestCollect.append({'error':'error'})\n",
    "        pass"
   ]
  },
  {
   "cell_type": "code",
   "execution_count": 10,
   "metadata": {
    "collapsed": false
   },
   "outputs": [],
   "source": [
    "arr = ['SPY','TLT','AAPL','GOOGL','AMZN','NFLX','BAC','JPM','MCD','TSLA','MCD','NKE','MSFT',\n",
    "  'XLE','XLF','QQQ','FB','VZ','GE','BA']#,'HD','DIS','JNJ','GS','PCLN','MS','TJX','M','SBUX','XOM','V','MA',\n",
    "  #'XLU','IBM','INTC','XLV','XLI','IYR','XLY','EEM','FXI','GLD','SLV','GDX','FXE','UUP','HYG','SMH']"
   ]
  },
  {
   "cell_type": "code",
   "execution_count": 18,
   "metadata": {
    "collapsed": false
   },
   "outputs": [],
   "source": [
    "pool = ThreadPool(4)\n",
    "quoteCollect = pool.map(yahooLoad, arr)\n",
    "pool.close()\n",
    "pool.join()\n",
    "\n",
    "bestCollect = []\n",
    "for i in quoteCollect:\n",
    "    try:\n",
    "        for key,value in i.iteritems():\n",
    "            if value != 'error':\n",
    "                bestGo(key,value)\n",
    "    except:\n",
    "        continue\n",
    "\n",
    "finalBest = []\n",
    "for val in bestCollect:\n",
    "    if 'error' not in val:\n",
    "        if val['sharpe'] > 0.85:\n",
    "            finalBest.append(val)\n",
    "bestArr = sortBest(finalBest)\n"
   ]
  },
  {
   "cell_type": "code",
   "execution_count": 19,
   "metadata": {
    "collapsed": false
   },
   "outputs": [],
   "source": [
    "weights = {}\n",
    "count = 0\n",
    "for line in urllib2.urlopen('file:///Users/sjcasella/Desktop/TradeViz_P/spxw.csv'):\n",
    "    nLine = (line.replace('\"','')).replace('%','')\n",
    "    if count == 0:\n",
    "        count = 1\n",
    "        continue\n",
    "    ticker = str(nLine.split(',')[0])\n",
    "    try:\n",
    "        weight = float(nLine.split(',')[2])/100\n",
    "    except:\n",
    "        continue\n",
    "    weights[ticker] = weight"
   ]
  },
  {
   "cell_type": "code",
   "execution_count": 20,
   "metadata": {
    "collapsed": false
   },
   "outputs": [],
   "source": [
    "tempArr = {}\n",
    "for i in bestCollect:\n",
    "    if 'error' in i:\n",
    "        continue\n",
    "    tempVals = {}\n",
    "    val = i['future'] \n",
    "    tempArr[i['symbol']] = val\n",
    "\n",
    "totalW = 0.0\n",
    "for key,val in tempArr.iteritems():\n",
    "    if key in weights:\n",
    "        totalW = totalW + weights[key]\n",
    "\n",
    "spxLine = []\n",
    "for key,val in tempArr.iteritems():\n",
    "    if key in weights:\n",
    "        weight = weights[key]/totalW\n",
    "        spxLine.append([i * weight for i in val])"
   ]
  },
  {
   "cell_type": "code",
   "execution_count": 21,
   "metadata": {
    "collapsed": false
   },
   "outputs": [],
   "source": [
    "spxLen = len(spxLine[0])\n",
    "spxFinal = []\n",
    "for ind in range(spxLen):\n",
    "    totalEach = 0.0\n",
    "    for subArr in spxLine:\n",
    "        totalEach = totalEach + subArr[ind]\n",
    "    spxFinal.append(totalEach)\n"
   ]
  },
  {
   "cell_type": "code",
   "execution_count": 22,
   "metadata": {
    "collapsed": false
   },
   "outputs": [],
   "source": [
    "bestArr.append({'symbol':'SPXLINE','future':spxFinal})\n",
    "\n",
    "os.remove(\"best.pickle\")\n",
    "with open(r\"best.pickle\", \"wb\") as output_file:\n",
    "    cPickle.dump(bestArr, output_file)"
   ]
  },
  {
   "cell_type": "code",
   "execution_count": 23,
   "metadata": {
    "collapsed": false
   },
   "outputs": [
    {
     "name": "stdout",
     "output_type": "stream",
     "text": [
      "[{'symbol': 'SPXLINE', 'future': [0.0, 0.0044397241716545438, 0.0014197823332921461, 0.0028117473386316911, 0.0042154607903476405, 0.0028180968975619332, 0.0037881659868702253, 0.0027846909443363576, 0.00087314279726220952, 0.0033808267158673263]}]\n"
     ]
    }
   ],
   "source": [
    "print(bestArr)"
   ]
  },
  {
   "cell_type": "code",
   "execution_count": null,
   "metadata": {
    "collapsed": true
   },
   "outputs": [],
   "source": []
  }
 ],
 "metadata": {
  "kernelspec": {
   "display_name": "Python 2",
   "language": "python",
   "name": "python2"
  },
  "language_info": {
   "codemirror_mode": {
    "name": "ipython",
    "version": 2
   },
   "file_extension": ".py",
   "mimetype": "text/x-python",
   "name": "python",
   "nbconvert_exporter": "python",
   "pygments_lexer": "ipython2",
   "version": "2.7.11"
  }
 },
 "nbformat": 4,
 "nbformat_minor": 0
}
