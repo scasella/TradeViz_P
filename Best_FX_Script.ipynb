{
 "cells": [
  {
   "cell_type": "code",
   "execution_count": 1,
   "metadata": {
    "collapsed": false
   },
   "outputs": [],
   "source": [
    "import numpy as np\n",
    "np.seterr(divide='ignore', invalid='ignore')\n",
    "import urllib2\n",
    "from multiprocessing import Pool as ThreadPool\n",
    "import math\n",
    "import cPickle\n",
    "import os "
   ]
  },
  {
   "cell_type": "code",
   "execution_count": 2,
   "metadata": {
    "collapsed": true
   },
   "outputs": [],
   "source": [
    "priceArr = []\n",
    "patCollect = []\n",
    "endingInd = []\n",
    "patLen = 10\n",
    "futureE = 10\n",
    "\n",
    "def percentChange(startPoint,currentPoint):\n",
    "    try:\n",
    "        x = ((float(currentPoint)-startPoint)/abs(startPoint))\n",
    "        return x\n",
    "    except:\n",
    "        print(currentPoint, startPoint)\n",
    "        return 0.00000000001\n",
    "\n",
    "def loadPats():\n",
    "    global priceArr\n",
    "    \n",
    "    priceArr = []\n",
    "    with open(r\"one.pickle\", \"rb\") as input_file:\n",
    "        e = cPickle.load(input_file)\n",
    "        priceArr = e\n",
    "\n",
    "\n",
    "def collectPats():\n",
    "    global patCollect\n",
    "    global endingInd\n",
    "    patCollect = []\n",
    "    endingInd = []\n",
    "    for each in priceArr:\n",
    "        tempCollect = []\n",
    "        tempEnd = []\n",
    "        sIndex = 0\n",
    "        length = (len(each) - patLen - futureE)\n",
    "\n",
    "        while sIndex < length:\n",
    "            inc = 1\n",
    "            tempPat = []\n",
    "            while inc <= patLen:\n",
    "                temp = percentChange(each[sIndex + inc -1], each[sIndex + inc])\n",
    "                inc += 1\n",
    "                tempPat.append(temp)\n",
    "            tempCollect.append(tempPat)\n",
    "            tempEnd.append(sIndex+patLen)\n",
    "            sIndex += (patLen)\n",
    "        patCollect.append(tempCollect)\n",
    "        endingInd.append(tempEnd)\n",
    "\n",
    "loadPats()\n",
    "collectPats()"
   ]
  },
  {
   "cell_type": "code",
   "execution_count": 3,
   "metadata": {
    "collapsed": false
   },
   "outputs": [],
   "source": [
    "def yahooLoad(val):\n",
    "    tempArr = []\n",
    "    string = \"\"\n",
    "    string = 'http://ichart.finance.yahoo.com/table.csv?s={0}'.format(val)\n",
    "\n",
    "    csv = urllib2.urlopen(string).readlines()\n",
    "    #for bar in xrange(1,min(len(csv),500)):\n",
    "    for bar in xrange(1,min(50,len(csv))):\n",
    "        close = csv[bar].split(',')[6]\n",
    "        tempArr.append(float(close))\n",
    "    tempArr = tempArr[::-1]\n",
    "    #quoteCollect[val] = tempArr\n",
    "    return {val: tempArr}\n",
    "\n",
    "\n",
    "def currentPat(curArr):\n",
    "    global patLen\n",
    "    curPat = []\n",
    "    sliceLen = patLen\n",
    "    curr = curArr[-(sliceLen+1):]\n",
    "    while curr[-2] == curr[-1]:\n",
    "        sliceLen += 1\n",
    "        curr = curArr[-(sliceLen+1):]\n",
    "    i = 0\n",
    "    while i < patLen:\n",
    "        temp = percentChange(curr[i], curr[i + 1])\n",
    "        curPat.append(temp)\n",
    "        i += 1\n",
    "    return curPat\n",
    "\n",
    "\n",
    "def sortPats(array):\n",
    "    finalArr = []\n",
    "    def getKey(tup):\n",
    "        return tup[1]\n",
    "    finalArr = sorted(array, key=getKey)\n",
    "    return finalArr"
   ]
  },
  {
   "cell_type": "code",
   "execution_count": 4,
   "metadata": {
    "collapsed": true
   },
   "outputs": [],
   "source": [
    "def matchPats(patCollect,endingInd,curPat):\n",
    "    matchedPat = []\n",
    "    matchedEndInd = []\n",
    "    bestMatches = []\n",
    "    for colInd,col in enumerate(patCollect):\n",
    "        for rowInd,row in enumerate(col):\n",
    "            mseCollect = []\n",
    "            for ind,item in enumerate(row):\n",
    "                mseTemp = abs(curPat[ind] - item)\n",
    "                mseCollect.append(mseTemp)\n",
    "            #mseAvg = np.average(weighting)\n",
    "            mseAvg = np.average(mseCollect)\n",
    "            bestMatches.append(([row,colInd,endingInd[colInd][rowInd]],mseAvg))\n",
    "    test = sortPats(bestMatches)\n",
    "    for item in test[:10]:\n",
    "        matchedPat.append(item[0][0])\n",
    "        matchedEndInd.append((item[0][1],item[0][2]))\n",
    "    return matchedPat,matchedEndInd"
   ]
  },
  {
   "cell_type": "code",
   "execution_count": 5,
   "metadata": {
    "collapsed": true
   },
   "outputs": [],
   "source": [
    "def plotting(matchedPat,matchedEndInd):\n",
    "    global futureE\n",
    "    futureAverages = []\n",
    "    stDev = []\n",
    "    futureLine = []\n",
    "    futurePercent = []\n",
    "    if len(matchedPat) > 1:\n",
    "        for i in matchedPat:\n",
    "            tempPercent = []\n",
    "            refInd = matchedPat.index(i)\n",
    "            endInd = matchedEndInd[refInd]\n",
    "            col = endInd[0]\n",
    "            outcomesZ = priceArr[col][endInd[1]:(endInd[1]+patLen)]\n",
    "            futureLine.append(outcomesZ)\n",
    "            for x in outcomesZ:\n",
    "                change = percentChange(priceArr[col][endInd[1]],x)\n",
    "                tempPercent.append(change)\n",
    "            futurePercent.append(tempPercent)\n",
    "\n",
    "        futureAverages = []\n",
    "\n",
    "        for arrItemNum in range(len(futurePercent[0])):\n",
    "            tempOutcomes = []\n",
    "            for arr in futurePercent:\n",
    "                tempOutcomes.append(arr[arrItemNum])\n",
    "            futureAverages.append(np.mean(tempOutcomes))\n",
    "            stDev.append(np.std(tempOutcomes))\n",
    "\n",
    "        return futureAverages,stDev"
   ]
  },
  {
   "cell_type": "code",
   "execution_count": 14,
   "metadata": {
    "collapsed": false
   },
   "outputs": [],
   "source": [
    "def sortBest(array):\n",
    "    finalArr = []\n",
    "    def getKey(val):\n",
    "        return val['future'][-1]\n",
    "    finalArr = sorted(array, key=getKey, reverse=True)\n",
    "    return finalArr\n",
    "\n",
    "bestCollect = []\n",
    "\n",
    "def bestGo(val,curArr):\n",
    "    global bestCollect\n",
    "\n",
    "    #curArr = yahooLoad(val)\n",
    "    curPat = currentPat(curArr)\n",
    "    matchedPat,matchedEndInd = matchPats(patCollect,endingInd,curPat)\n",
    "    futureAverages,stDev = plotting(matchedPat,matchedEndInd)\n",
    "    totalDict = {'symbol': val,'matches': matchedPat,'current': curPat,'future': futureAverages, 'stDev': stDev, 'sharpe': futureAverages[-1]/stDev[-1]}\n",
    "    bestCollect.append(totalDict)\n",
    "    #except:\n",
    "     #   bestCollect.append({'error':'error'})\n",
    "    #  pass"
   ]
  },
  {
   "cell_type": "code",
   "execution_count": 15,
   "metadata": {
    "collapsed": false
   },
   "outputs": [],
   "source": [
    "arr = ['MMM','ABT','ABBV','ACN','ATVI','AYI','ADBE','AAP','AES','AET','AMG','AFL','A','GAS','APD','AKAM',\n",
    "       'ALK','AA','ALXN','ALLE','AGN','ADS','ALL','GOOGL','GOOG','MO','AMZN','AEE','AAL','AEP','AXP','AIG','AMT']\n",
    "#'AWK','AMP','ABC','AME','AMGN','APH','APC','ADI','ANTM','AON','APA','AIV','AAPL','AMAT','ADM','AJG','AIZ','T','ADSK','ADP',\n",
    "#'AN','AZO','AVGO','AVB','AVY','BHI','BLL','BAC','BCR','BAX','BBT','BDX','BBBY','BRK-B','BBY','BIIB','BLK','HRB','BA','BWA','BXP',\n",
    "#'BSX','BMY','BF-B']"
   ]
  },
  {
   "cell_type": "code",
   "execution_count": 16,
   "metadata": {
    "collapsed": false
   },
   "outputs": [],
   "source": [
    "pool = ThreadPool(4)\n",
    "quoteCollect = pool.map(yahooLoad, arr)\n",
    "pool.close()\n",
    "pool.join()\n",
    "\n",
    "\n"
   ]
  },
  {
   "cell_type": "code",
   "execution_count": null,
   "metadata": {
    "collapsed": false
   },
   "outputs": [],
   "source": [
    "for i in quoteCollect: \n",
    "        for key,value in i.iteritems():\n",
    "             bestGo(key,value)\n",
    "   \n",
    "\n",
    " #finalBest = []\n",
    "#for val in bestCollect:\n",
    "#    if val['sharpe'] > 0.75:\n",
    "#        finalBest.append(val)\n",
    "#print(bestCollect)\n",
    "\n",
    "submitArr = sortBest(bestCollect)\n",
    "\n",
    "os.remove(\"best.pickle\")\n",
    "with open(r\"best.pickle\", \"wb\") as output_file:\n",
    "    cPickle.dump(bestCollect, output_file)"
   ]
  },
  {
   "cell_type": "code",
   "execution_count": null,
   "metadata": {
    "collapsed": false
   },
   "outputs": [],
   "source": [
    "t = []\n",
    "with open(r\"best.pickle\", \"rb\") as input_file:\n",
    "        t = cPickle.load(input_file)\n",
    "print(t)"
   ]
  },
  {
   "cell_type": "code",
   "execution_count": null,
   "metadata": {
    "collapsed": false
   },
   "outputs": [],
   "source": [
    "print(quoteCollect[0])"
   ]
  },
  {
   "cell_type": "code",
   "execution_count": null,
   "metadata": {
    "collapsed": true
   },
   "outputs": [],
   "source": []
  }
 ],
 "metadata": {
  "kernelspec": {
   "display_name": "Python 2",
   "language": "python",
   "name": "python2"
  },
  "language_info": {
   "codemirror_mode": {
    "name": "ipython",
    "version": 2
   },
   "file_extension": ".py",
   "mimetype": "text/x-python",
   "name": "python",
   "nbconvert_exporter": "python",
   "pygments_lexer": "ipython2",
   "version": "2.7.11"
  }
 },
 "nbformat": 4,
 "nbformat_minor": 0
}
